{
 "cells": [
  {
   "attachments": {},
   "cell_type": "markdown",
   "metadata": {},
   "source": [
    "# Document Search and Retrieval for complex documents using RAG\n",
    "\n",
    "\n",
    "<img src=\"arch.png\" width=400px>"
   ]
  },
  {
   "attachments": {},
   "cell_type": "markdown",
   "metadata": {},
   "source": [
    "### Process document and create vectorstore"
   ]
  },
  {
   "cell_type": "code",
   "execution_count": 1,
   "metadata": {
    "tags": []
   },
   "outputs": [],
   "source": [
    "from rag_101.retriever import (\n",
    "    load_pdf,\n",
    "    split_text,\n",
    "    load_embedding_model,\n",
    "    load_reranker_model,\n",
    "    generate_embeddings,\n",
    "    rerank_docs,\n",
    ")"
   ]
  },
  {
   "cell_type": "markdown",
   "metadata": {},
   "source": [
    "Load documents and split into chunks"
   ]
  },
  {
   "cell_type": "code",
   "execution_count": null,
   "metadata": {
    "tags": []
   },
   "outputs": [],
   "source": [
    "# Load the PDFs from arxiv\n",
    "# You can upload your own document and update the path\n",
    "files = [\"example_data/runescapepdf.pdf\"]\n",
    "loaders = load_pdf(files=files)\n",
    "\n",
    "# Spliting\n",
    "documents = split_text(loaders=loaders, chunk_size=1000)"
   ]
  },
  {
   "cell_type": "markdown",
   "metadata": {},
   "source": [
    "Generate embeddings and store in a vector database"
   ]
  },
  {
   "cell_type": "code",
   "execution_count": null,
   "metadata": {
    "tags": []
   },
   "outputs": [
    {
     "name": "stdout",
     "output_type": "stream",
     "text": [
      "Generating embeddings... This might take some time.\n"
     ]
    }
   ],
   "source": [
    "# initialize models\n",
    "embedding_model = load_embedding_model(model_name=\"BAAI/bge-large-en-v1.5\")\n",
    "reranker_model = load_reranker_model(reranker_model_name=\"BAAI/bge-reranker-large\")\n",
    "\n",
    "# generate embeddings and store in vector database\n",
    "print(\"Generating embeddings... This might take some time.\")\n",
    "vectorstore = generate_embeddings(documents, embedding_model=embedding_model)\n",
    "retriever = vectorstore.as_retriever(search_kwargs={\"k\": 10})"
   ]
  },
  {
   "attachments": {},
   "cell_type": "markdown",
   "metadata": {},
   "source": [
    "### Query the input document"
   ]
  },
  {
   "cell_type": "code",
   "execution_count": null,
   "metadata": {
    "tags": []
   },
   "outputs": [
    {
     "name": "stdout",
     "output_type": "stream",
     "text": [
      "\n",
      "User query: What is the grand exchange in runescape?\n",
      "----------------------------------------------------------------------------------------------------\n",
      "Retrieved content:\n",
      "3.2 The Grand Exchange The Grand Exchange (“GE”) is a marketplace that connects buyers and sellers of all OSRS tradeable items, similar to a real-world secu- rities exchange. The GE works by clearing offers between buyers and sellers in the order it receives them. For example, suppose a buyer places an order for an item at 𝑃𝐵 and there exists a sell offer\n",
      "\n",
      "Figure 1: The Grand Exchange (GE) is a mechanism within RuneScape to connect buy and sell orders for thousands of items.\n",
      "----------------------------------------------------------------------------------------------------\n",
      "metadata: {'source': 'example_data/runescapepdf.pdf'}\n"
     ]
    }
   ],
   "source": [
    "query = \"What is the grand exchange in runescape?\"\n",
    "\n",
    "retrieved_documents = retriever.get_relevant_documents(query)\n",
    "reranked_documents = rerank_docs(reranker_model, query, retrieved_documents)\n",
    "\n",
    "print(\"\\nUser query:\", query)\n",
    "print(\"--\" * 50)\n",
    "print(\n",
    "    \"Retrieved content:\",\n",
    ")\n",
    "print(reranked_documents[0][0].page_content)\n",
    "print(\"--\" * 50)\n",
    "print(\"metadata:\", reranked_documents[0][0].metadata)"
   ]
  },
  {
   "cell_type": "markdown",
   "metadata": {},
   "source": [
    "### Run through some sample queries and observe the results"
   ]
  },
  {
   "cell_type": "code",
   "execution_count": null,
   "metadata": {
    "tags": []
   },
   "outputs": [
    {
     "name": "stdout",
     "output_type": "stream",
     "text": [
      "Example 1: Query-> How does social behaviour affect trading in online games?\n",
      "....................................................................................................\n",
      "Retrieved document:\n",
      "----------------------------------------------------------------------------------------------------\n",
      "\n",
      "\n",
      "2.2 Social Behavior in MMORPGs Many MMORPGs have a high degree of player interaction, such as through text chat or trading mechanisms. These interactions have important effects on player retention and economic activity. For example, Jeong et al. find that friendship and trading interaction networks have high degrees of overlap compared to other types of social interactions [29]. In Aion, a popular MMORPG, Chun et al. observe that interactions such as message exchange are highly correlated with trade [16]. Kang et al. show that people tend to join guilds, which are in-game groupings of players, when they expect benefits, such as money or valuable items [32]. Furthermore, users often exhibit a profit-seeking mentality by switching guilds. Bisberg et al. find that players who experience or observe generosity in MMORPGs generally show higher future game engagement [5]. Chung et al. observe that when a player group is not cohesive, there tends to be significant attrition [17]. On the other hand, players who gather large amounts of currency or valuable items are less likely to churn from the game [40].\n",
      "----------------------------------------------------------------------------------------------------\n",
      "metadata: {'source': 'example_data/runescapepdf.pdf'}\n",
      "==================================================================================================== \n",
      "\n",
      "\n",
      "Example 2: Query-> How does the runescape economy work?\n",
      "....................................................................................................\n",
      "Retrieved document:\n",
      "----------------------------------------------------------------------------------------------------\n",
      "3.4 RuneScape Economy As noted by Lehdonvirta and Castronova, players oftentimes play towards their own competitive advantages, and thus are likely unable to produce all items that meet their consumption needs [38]. Thus, the OSRS economy has notable similarities to real-world economies: players work towards producing items or achieving goals and they trade for products they want or need. The GE is the primary mechanism where players sell what they produce, and trading on the GE represents the majority of economic activity in OSRS [4].\n",
      "----------------------------------------------------------------------------------------------------\n",
      "metadata: {'source': 'example_data/runescapepdf.pdf'}\n",
      "==================================================================================================== \n",
      "\n",
      "\n",
      "Example 3: Query-> What happens with item sinks long term?\n",
      "....................................................................................................\n",
      "Retrieved document:\n",
      "----------------------------------------------------------------------------------------------------\n",
      "5 DISCUSSION In this study we applied methods from empirical economics to estimate the causal effects of new market interventions in a large- scale virtual economy. We found that the the interventions did not uniformly affect economic outcomes: prices for high-level items increased due to the item sink, but trading volume was not meaning- fully affected by the transaction tax. Our results align clearly with standard economic theory: the new item sink increased demand for high-level items (by buying items), thus leading to increased prices. And yet, gauging whether the market interventions were successful depends on the policy objective of the game planner.\n",
      "----------------------------------------------------------------------------------------------------\n",
      "metadata: {'source': 'example_data/runescapepdf.pdf'}\n",
      "==================================================================================================== \n",
      "\n",
      "\n"
     ]
    }
   ],
   "source": [
    "query1 = \"How does social behaviour affect trading in online games?\"\n",
    "query2 = \"How does the runescape economy work?\"\n",
    "query3 = \"What happens with item sinks long term?\"\n",
    "\n",
    "queries = [\n",
    "    query1,\n",
    "    query2,\n",
    "    query3,\n",
    "\n",
    "]\n",
    "\n",
    "for i, query in enumerate(queries):\n",
    "    print(f\"Example {i+1}: Query->\", query)\n",
    "    print(\n",
    "        \"..\" * 50,\n",
    "    )\n",
    "    print(\"Retrieved document:\")\n",
    "\n",
    "    retrieved_documents = retriever.get_relevant_documents(query)\n",
    "    reranked_documents = rerank_docs(reranker_model, query, retrieved_documents)\n",
    "\n",
    "    print(\"--\" * 50)\n",
    "    print(reranked_documents[0][0].page_content)\n",
    "    print(\"--\" * 50)\n",
    "    print(\"metadata:\", reranked_documents[0][0].metadata)\n",
    "    print(\"==\" * 50, \"\\n\\n\")"
   ]
  }
 ],
 "metadata": {
  "kernelspec": {
   "display_name": "Python 3",
   "language": "python",
   "name": "python3"
  },
  "language_info": {
   "codemirror_mode": {
    "name": "ipython",
    "version": 3
   },
   "file_extension": ".py",
   "mimetype": "text/x-python",
   "name": "python",
   "nbconvert_exporter": "python",
   "pygments_lexer": "ipython3",
   "version": "3.10.10"
  }
 },
 "nbformat": 4,
 "nbformat_minor": 4
}
